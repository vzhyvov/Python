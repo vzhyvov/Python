{
 "cells": [
  {
   "cell_type": "code",
   "execution_count": 4,
   "metadata": {},
   "outputs": [],
   "source": [
    "#на линукс и юникс работает как есть, на виндовс ф-цию нужно вынести в отдельный файл, \n",
    "#а в текущем добавить if __name__ == \"__main__\":"
   ]
  },
  {
   "cell_type": "code",
   "execution_count": 5,
   "metadata": {},
   "outputs": [],
   "source": [
    "#на небольших задачах мультипроцессинг может работать медленнее\n",
    "#due to overhead in invoking all the processors, assigning different tasks to them and then gathering the results"
   ]
  },
  {
   "cell_type": "code",
   "execution_count": 3,
   "metadata": {},
   "outputs": [],
   "source": [
    "from multiprocessing import Pool\n",
    "from timeit import default_timer as timer\n",
    "#наша функция\n",
    "import workers"
   ]
  },
  {
   "cell_type": "code",
   "execution_count": null,
   "metadata": {},
   "outputs": [],
   "source": [
    "#определяем кол-во процессов исходя из мощности машины\n",
    "#1 оставляем для фоновых процессов\n",
    "cpu_to_use = np.max([os.cpu_count() - 1, 1])"
   ]
  },
  {
   "cell_type": "code",
   "execution_count": null,
   "metadata": {},
   "outputs": [],
   "source": [
    "#Create sizes for 3 arrays. \n",
    "sizes = [10**7 for i in range(0,3)] \n",
    "\n",
    "#Applying the function sequentially\n",
    "tic = timer()\n",
    "[workers.worker(size) for size in sizes]\n",
    "tac = timer()\n",
    "print(\"time for sequential sorting: \", tac-tic)\n",
    "\n",
    "#Using multiprocessing\n",
    "if __name__ == \"__main__\":\n",
    "    pool = Pool(processes=cpu_to_use)\n",
    "    tic = timer()\n",
    "    pool.map(workers.worker,sizes)\n",
    "    tac = timer()\n",
    "    print(\"time for parallel sorting: \",tac-tic)"
   ]
  },
  {
   "cell_type": "code",
   "execution_count": null,
   "metadata": {},
   "outputs": [],
   "source": []
  }
 ],
 "metadata": {
  "kernelspec": {
   "display_name": "Python 3",
   "language": "python",
   "name": "python3"
  },
  "language_info": {
   "codemirror_mode": {
    "name": "ipython",
    "version": 3
   },
   "file_extension": ".py",
   "mimetype": "text/x-python",
   "name": "python",
   "nbconvert_exporter": "python",
   "pygments_lexer": "ipython3",
   "version": "3.7.3"
  }
 },
 "nbformat": 4,
 "nbformat_minor": 2
}
