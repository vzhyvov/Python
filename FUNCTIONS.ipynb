{
 "cells": [
  {
   "cell_type": "markdown",
   "metadata": {},
   "source": [
    "**return** использовать не обязательно, по умолчанию функция возвращает None"
   ]
  },
  {
   "cell_type": "markdown",
   "metadata": {},
   "source": [
    "Нужно передать в ф-цию **хоть 1 элемент:**\n",
    "def min(first, *args):"
   ]
  },
  {
   "cell_type": "markdown",
   "metadata": {},
   "source": [
    "Можно явно потребовать, чтобы часть аргументов всегда<br>\n",
    "передавалась как ключевые:<br>\n",
    "def flatten(xs, *, depth=None):<br>\n",
    "    pass"
   ]
  },
  {
   "cell_type": "markdown",
   "metadata": {},
   "source": [
    "В аргументы ф-ции не принято ставить по умолчанию изменяемые объекты (сэт, лист...), так как он будет переиспользоваться в разных вызовах ф-ции"
   ]
  },
  {
   "cell_type": "code",
   "execution_count": 1,
   "metadata": {},
   "outputs": [
    {
     "data": {
      "text/plain": [
       "'I return 42.'"
      ]
     },
     "execution_count": 1,
     "metadata": {},
     "output_type": "execute_result"
    }
   ],
   "source": [
    "#документация\n",
    "def foo():\n",
    "    \"\"\"I return 42.\"\"\"\n",
    "    return 42\n",
    "foo.__doc__ #или help(foo) "
   ]
  },
  {
   "cell_type": "code",
   "execution_count": 3,
   "metadata": {},
   "outputs": [],
   "source": [
    "#Можно явно потребовать, чтобы часть аргументов всегда\n",
    "#передавалась как ключевые:\n",
    "def flatten(xs, *, depth=None):\n",
    "    pass"
   ]
  },
  {
   "cell_type": "code",
   "execution_count": 6,
   "metadata": {},
   "outputs": [
    {
     "name": "stdout",
     "output_type": "stream",
     "text": [
      "Logging enabled\n"
     ]
    }
   ],
   "source": [
    "#Ключевые аргументы, аналогично позиционным, можно\n",
    "#упаковывать и распаковывать:\n",
    "def runner(cmd, **kwargs):\n",
    "    if kwargs.get(\"verbose\", True): #дефолтное хначение для аргумента verbose - True\n",
    "        print(\"Logging enabled\")\n",
    "\n",
    "runner(\"mysqld\", limit=42)\n",
    "runner(\"mysqld\", **{\"verbose\": False})\n",
    "options = {\"verbose\": False}\n",
    "runner(\"mysqld\", **options)"
   ]
  },
  {
   "cell_type": "code",
   "execution_count": 18,
   "metadata": {},
   "outputs": [
    {
     "data": {
      "text/plain": [
       "12"
      ]
     },
     "execution_count": 18,
     "metadata": {},
     "output_type": "execute_result"
    }
   ],
   "source": [
    "#фабрика ф-ций\n",
    "def make_min(*, lo, hi):\n",
    "    def inner(first, *args):\n",
    "        res = hi\n",
    "        for arg in (first, ) + args:\n",
    "            if arg < res and lo < arg < hi:\n",
    "                res = arg\n",
    "        return max(res, lo)\n",
    "    return inner\n",
    "bounded_min = make_min(lo=0, hi=255)\n",
    "bounded_min(-5, 12, 13)"
   ]
  },
  {
   "cell_type": "markdown",
   "metadata": {},
   "source": [
    "# Области видимости: LEGB"
   ]
  },
  {
   "cell_type": "code",
   "execution_count": null,
   "metadata": {},
   "outputs": [],
   "source": [
    "#Поиск имени ведётся не более, чем в четырёх областях\n",
    "#видимости: локальной, затем в объемлющей функции (если\n",
    "#такая имеется), затем в глобальной и, наконец, во встроенной\n",
    "min # builtin\n",
    "min = 42 # global\n",
    "def f(*args):\n",
    "    min = 2\n",
    "    def g(): # enclosing - переменные функции, которая объемлет нашу ф-цию\n",
    "        min = 4 # local\n",
    "        print(min)"
   ]
  },
  {
   "cell_type": "code",
   "execution_count": 19,
   "metadata": {},
   "outputs": [
    {
     "data": {
      "text/plain": [
       "44"
      ]
     },
     "execution_count": 19,
     "metadata": {},
     "output_type": "execute_result"
    }
   ],
   "source": [
    "#global и nonlocal-для объемлющей области видимости\n",
    "min = 42\n",
    "def f():\n",
    "    global min\n",
    "    min += 1\n",
    "    return min\n",
    "\n",
    "f()\n",
    "f()"
   ]
  }
 ],
 "metadata": {
  "kernelspec": {
   "display_name": "Python 3",
   "language": "python",
   "name": "python3"
  },
  "language_info": {
   "codemirror_mode": {
    "name": "ipython",
    "version": 3
   },
   "file_extension": ".py",
   "mimetype": "text/x-python",
   "name": "python",
   "nbconvert_exporter": "python",
   "pygments_lexer": "ipython3",
   "version": "3.7.3"
  }
 },
 "nbformat": 4,
 "nbformat_minor": 2
}
