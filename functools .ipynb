{
 "cells": [
  {
   "cell_type": "markdown",
   "metadata": {},
   "source": [
    "# partial "
   ]
  },
  {
   "cell_type": "code",
   "execution_count": 1,
   "metadata": {},
   "outputs": [
    {
     "name": "stdout",
     "output_type": "stream",
     "text": [
      "3145\n"
     ]
    }
   ],
   "source": [
    "#Partial functions allow us to fix a certain number of arguments of a function and generate a new function.\n",
    "from functools import partial \n",
    "  \n",
    "# A normal function \n",
    "def f(a, b, c, x): \n",
    "    return 1000*a + 100*b + 10*c + x \n",
    "  \n",
    "g = partial(f, 3, 1, 4) \n",
    "print(g(5))"
   ]
  },
  {
   "cell_type": "markdown",
   "metadata": {},
   "source": [
    "# lru_cache"
   ]
  },
  {
   "cell_type": "code",
   "execution_count": 4,
   "metadata": {},
   "outputs": [
    {
     "name": "stdout",
     "output_type": "stream",
     "text": [
      "Time taken to execute the function without lru_cache is 0.8035333156585693\n",
      "Time taken to execute the function with lru_cache is 0.0\n"
     ]
    }
   ],
   "source": [
    "from functools import lru_cache \n",
    "import time \n",
    "  \n",
    "# Function that computes Fibonacci  numbers without lru_cache \n",
    "def fib_without_cache(n): \n",
    "    if n < 2: \n",
    "        return n \n",
    "    return fib_without_cache(n-1) + fib_without_cache(n-2) \n",
    "      \n",
    "# Execution time \n",
    "begin = time.time() \n",
    "fib_without_cache(30)  \n",
    "end = time.time() \n",
    "  \n",
    "print(\"Time taken to execute the function without lru_cache is\", end-begin) \n",
    "  \n",
    "# Function that computes Fibonacci numbers with lru_cache \n",
    "@lru_cache(maxsize = 128) \n",
    "def fib_with_cache(n): \n",
    "    if n < 2: \n",
    "        return n \n",
    "    return fib_with_cache(n-1) + fib_with_cache(n-2) \n",
    "      \n",
    "begin = time.time() \n",
    "fib_with_cache(30) \n",
    "end = time.time() \n",
    "  \n",
    "print(\"Time taken to execute the function with lru_cache is\", end-begin) "
   ]
  },
  {
   "cell_type": "markdown",
   "metadata": {},
   "source": [
    "# cmp_to_key"
   ]
  },
  {
   "cell_type": "code",
   "execution_count": null,
   "metadata": {},
   "outputs": [],
   "source": [
    "#It converts a comparison function into a key function. \n",
    "#The comparison function must return 1, -1 and 0 for different conditions. \n",
    "#It can be used in key functions such as sorted(), min(), max()"
   ]
  },
  {
   "cell_type": "code",
   "execution_count": 13,
   "metadata": {},
   "outputs": [
    {
     "name": "stdout",
     "output_type": "stream",
     "text": [
      "sorted list : ['apple', 'for', 'aaw']\n"
     ]
    }
   ],
   "source": [
    "from functools import cmp_to_key \n",
    "  \n",
    "# function to sort according to last character \n",
    "def cmp_fun(a, b): \n",
    "    if a[-1] > b[-1]: \n",
    "        return 1\n",
    "    elif a[-1] < b[-1]: \n",
    "        return -1\n",
    "    else: \n",
    "        return 0\n",
    "\n",
    "list1 = ['apple', 'for', 'aaw'] \n",
    "l = sorted(list1, key = cmp_to_key(cmp_fun)) \n",
    "print('sorted list :', l) "
   ]
  },
  {
   "cell_type": "code",
   "execution_count": null,
   "metadata": {},
   "outputs": [],
   "source": []
  }
 ],
 "metadata": {
  "kernelspec": {
   "display_name": "Python 3",
   "language": "python",
   "name": "python3"
  },
  "language_info": {
   "codemirror_mode": {
    "name": "ipython",
    "version": 3
   },
   "file_extension": ".py",
   "mimetype": "text/x-python",
   "name": "python",
   "nbconvert_exporter": "python",
   "pygments_lexer": "ipython3",
   "version": "3.7.3"
  }
 },
 "nbformat": 4,
 "nbformat_minor": 2
}
