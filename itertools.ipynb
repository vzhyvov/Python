{
 "cells": [
  {
   "cell_type": "markdown",
   "metadata": {},
   "source": [
    "# Infinite iterators"
   ]
  },
  {
   "cell_type": "code",
   "execution_count": 1,
   "metadata": {},
   "outputs": [
    {
     "name": "stdout",
     "output_type": "stream",
     "text": [
      "5 10 15 20 25 30 "
     ]
    }
   ],
   "source": [
    "# count - указываем старт и шаг  \n",
    "    \n",
    "import itertools  \n",
    " \n",
    "for i in itertools.count(5, 5):  \n",
    "    if i == 35:  \n",
    "        break\n",
    "    else:  \n",
    "        print(i, end =\" \") "
   ]
  },
  {
   "cell_type": "code",
   "execution_count": 3,
   "metadata": {},
   "outputs": [
    {
     "name": "stdout",
     "output_type": "stream",
     "text": [
      "A B C A B C A B "
     ]
    }
   ],
   "source": [
    "#cycle - цикл\n",
    "count = 0\n",
    "     \n",
    "for i in itertools.cycle('ABC'):  \n",
    "    if count > 7:  \n",
    "        break\n",
    "    else:  \n",
    "        print(i, end = \" \")  \n",
    "        count += 1"
   ]
  },
  {
   "cell_type": "code",
   "execution_count": 5,
   "metadata": {},
   "outputs": [
    {
     "name": "stdout",
     "output_type": "stream",
     "text": [
      "Geeks for peek Geeks for peek "
     ]
    }
   ],
   "source": [
    "import itertools  \n",
    "    \n",
    "l = ['Geeks', 'for', 'peek']  \n",
    "    \n",
    "iterators = itertools.cycle(l)  \n",
    "    \n",
    "for i in range(6):    \n",
    "    # Using next function  \n",
    "    print(next(iterators), end = \" \") "
   ]
  },
  {
   "cell_type": "code",
   "execution_count": 7,
   "metadata": {},
   "outputs": [
    {
     "name": "stdout",
     "output_type": "stream",
     "text": [
      "Printing the numbers repeatedly : \n",
      "['erfrefe', 'erfrefe', 'erfrefe', 'erfrefe']\n"
     ]
    }
   ],
   "source": [
    "#повторяет элемент н раз\n",
    "print (list(itertools.repeat('erfrefe', 4))) "
   ]
  },
  {
   "cell_type": "markdown",
   "metadata": {},
   "source": [
    "# chain"
   ]
  },
  {
   "cell_type": "code",
   "execution_count": 8,
   "metadata": {},
   "outputs": [
    {
     "name": "stdout",
     "output_type": "stream",
     "text": [
      "['foo', 'bar', 'ls', '/some/dir', 0, 1, 2, 3, 4]\n"
     ]
    }
   ],
   "source": [
    "#Итератор chain берет ряд итерируемых, и лепит из них одну длинную итерируемую\n",
    "from itertools import chain\n",
    " \n",
    "numbers = list(range(5))\n",
    "cmd = ['ls', '/some/dir']\n",
    " \n",
    "my_list = list(chain(['foo', 'bar'], cmd, numbers))\n",
    " \n",
    "print(my_list)"
   ]
  },
  {
   "cell_type": "markdown",
   "metadata": {},
   "source": [
    "# combinations"
   ]
  },
  {
   "cell_type": "code",
   "execution_count": 9,
   "metadata": {},
   "outputs": [
    {
     "name": "stdout",
     "output_type": "stream",
     "text": [
      "[('W', 'X'), ('W', 'Y'), ('W', 'Z'), ('X', 'Y'), ('X', 'Z'), ('Y', 'Z')]\n"
     ]
    }
   ],
   "source": [
    "from itertools import combinations\n",
    "\n",
    "data = list(combinations('WXYZ', 2))\n",
    "print(data)"
   ]
  },
  {
   "cell_type": "markdown",
   "metadata": {},
   "source": [
    "# product"
   ]
  },
  {
   "cell_type": "code",
   "execution_count": 10,
   "metadata": {},
   "outputs": [
    {
     "name": "stdout",
     "output_type": "stream",
     "text": [
      "[(-1, -3, -5), (-1, -3, 5), (-1, 3, -5), (-1, 3, 5), (1, -3, -5), (1, -3, 5), (1, 3, -5), (1, 3, 5)]\n"
     ]
    }
   ],
   "source": [
    "#картезианская\n",
    "from itertools import product\n",
    " \n",
    "arrays = [(-1,1), (-3,3), (-5,5)]\n",
    "cp = list(product(*arrays))\n",
    " \n",
    "print(cp)"
   ]
  },
  {
   "cell_type": "code",
   "execution_count": null,
   "metadata": {},
   "outputs": [],
   "source": []
  }
 ],
 "metadata": {
  "kernelspec": {
   "display_name": "Python 3",
   "language": "python",
   "name": "python3"
  },
  "language_info": {
   "codemirror_mode": {
    "name": "ipython",
    "version": 3
   },
   "file_extension": ".py",
   "mimetype": "text/x-python",
   "name": "python",
   "nbconvert_exporter": "python",
   "pygments_lexer": "ipython3",
   "version": "3.7.3"
  }
 },
 "nbformat": 4,
 "nbformat_minor": 2
}
