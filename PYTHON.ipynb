{
 "cells": [
  {
   "cell_type": "markdown",
   "metadata": {},
   "source": [
    "# Упаковка-распаковка"
   ]
  },
  {
   "cell_type": "code",
   "execution_count": 14,
   "metadata": {},
   "outputs": [
    {
     "data": {
      "text/plain": [
       "-5"
      ]
     },
     "execution_count": 14,
     "metadata": {},
     "output_type": "execute_result"
    }
   ],
   "source": [
    "#распаковка\n",
    "xs = {-5, 12, 13} #или список или кортеж\n",
    "min(*xs)"
   ]
  },
  {
   "cell_type": "code",
   "execution_count": 17,
   "metadata": {},
   "outputs": [
    {
     "data": {
      "text/plain": [
       "(1, [2, 3, 4])"
      ]
     },
     "execution_count": 17,
     "metadata": {},
     "output_type": "execute_result"
    }
   ],
   "source": [
    "first, *rest = range(1, 5)\n",
    "first, rest"
   ]
  },
  {
   "cell_type": "code",
   "execution_count": 18,
   "metadata": {},
   "outputs": [
    {
     "data": {
      "text/plain": [
       "4"
      ]
     },
     "execution_count": 18,
     "metadata": {},
     "output_type": "execute_result"
    }
   ],
   "source": [
    "#можно использовать в любом месте выражения\n",
    "first, *rest, last = range(1, 5)\n",
    "last"
   ]
  },
  {
   "cell_type": "code",
   "execution_count": 19,
   "metadata": {},
   "outputs": [
    {
     "name": "stdout",
     "output_type": "stream",
     "text": [
      "[1, 2, 3]\n",
      "[1]\n"
     ]
    }
   ],
   "source": [
    "for a, *b in [range(4), range(2)]:\n",
    "    print(b)"
   ]
  },
  {
   "cell_type": "markdown",
   "metadata": {},
   "source": [
    "# СТРОКИ"
   ]
  },
  {
   "cell_type": "code",
   "execution_count": null,
   "metadata": {
    "collapsed": true
   },
   "outputs": [],
   "source": [
    "\"foo bar\".capitalize()\n",
    "\"foo bar\".title()\n",
    "\"foo bar\".upper()\n",
    "\"foo bar\".lower()\n",
    "\"foo bar\".title().swapcase()\n",
    "\"foo bar\".ljust(16, '~')\n",
    "\"foo bar\".center(16, '~')\n",
    "\"]>>foo bar<<[\".lstrip(\"]>\")\n",
    "\"]>>foo bar<<[\".strip(\"[]<>\")\n",
    "\"foobar\".startswith(\"foo\")\n",
    "\"abracadabra\".find(\"ra\")\n",
    "\"abracadabra\".replace(\"ra\", \"**\")"
   ]
  },
  {
   "cell_type": "code",
   "execution_count": null,
   "metadata": {
    "collapsed": true
   },
   "outputs": [],
   "source": [
    "\"{}, {}, how are you?\".format(\"Hello\", \"Sally\")\n",
    "\"{0}, {1}, {0}\".format(\"hello\", \"kitty\")\n",
    "\"{0}, {who}, {0}\".format(\"hello\", who=\"kitty\")\n"
   ]
  },
  {
   "cell_type": "code",
   "execution_count": null,
   "metadata": {
    "collapsed": true
   },
   "outputs": [],
   "source": [
    "import os\n",
    "os.getcwd()  #путь к текущей папке\n",
    "os.name # имя операционной системы\n",
    "os.listdir(path=\".\") # список файлов и директорий в папке\n",
    "#os.remove(\"test.txt\") #удаление файла\n",
    "#os.rename(\"test.txt\", \"pytest.txt\") #переименовать файл или папку\n",
    "#os.startfile(r'C:\\Users\\mike\\Documents\\labels.pdf') #открыть любой файл\n",
    "\n",
    "#создаем список путей к файлам\n",
    "myList=['vova.doc','ceer.csv','vrrrtgrt.xls']\n",
    "for i in myList:\n",
    "    print(os.path.join(\"C:\\\\Users\\Doc\",i))\n",
    "\n",
    "#определяем имя файла и директории\n",
    "path=\"C:\\\\Users\\Doc\\document.doc\"\n",
    "print(os.path.basename(path))\n",
    "print(os.path.dirname(path))\n",
    "print(path.split(os.path.sep))"
   ]
  },
  {
   "cell_type": "code",
   "execution_count": null,
   "metadata": {
    "collapsed": true
   },
   "outputs": [],
   "source": [
    "#отправляем и забираем текст из буфера обмена\n",
    "import win32clipboard\n",
    "\n",
    "# set clipboard data\n",
    "win32clipboard.OpenClipboard()\n",
    "win32clipboard.EmptyClipboard()\n",
    "win32clipboard.SetClipboardText('testing')\n",
    "win32clipboard.CloseClipboard()\n",
    "\n",
    "# get clipboard data\n",
    "win32clipboard.OpenClipboard()\n",
    "data = win32clipboard.GetClipboardData()\n",
    "win32clipboard.CloseClipboard()\n",
    "print (data)"
   ]
  },
  {
   "cell_type": "code",
   "execution_count": 2,
   "metadata": {},
   "outputs": [
    {
     "data": {
      "text/plain": [
       "'win32'"
      ]
     },
     "execution_count": 2,
     "metadata": {},
     "output_type": "execute_result"
    }
   ],
   "source": [
    "import sys\n",
    "sys.platform #узнать ОС"
   ]
  },
  {
   "cell_type": "code",
   "execution_count": 6,
   "metadata": {},
   "outputs": [
    {
     "name": "stdout",
     "output_type": "stream",
     "text": [
      "2018-03-04\n",
      "The day is  4\n",
      "2018-03-04\n"
     ]
    }
   ],
   "source": [
    "import datetime \n",
    "print (datetime.date.today())\n",
    "print('The day is ',datetime.date.today().day)\n",
    "print(datetime.date.isoformat(datetime.date.today())) #в виде строки\n"
   ]
  },
  {
   "cell_type": "code",
   "execution_count": 16,
   "metadata": {},
   "outputs": [
    {
     "name": "stdout",
     "output_type": "stream",
     "text": [
      "12\n"
     ]
    }
   ],
   "source": [
    "import random\n",
    "print(random.randint(1,60))\n",
    "random.choice(sequence) #- случайный элемент непустой последовательности\n",
    "random.random() #- случайное число от 0 до 1\n"
   ]
  },
  {
   "cell_type": "markdown",
   "metadata": {},
   "source": [
    "# СПИСОК"
   ]
  },
  {
   "cell_type": "code",
   "execution_count": 19,
   "metadata": {},
   "outputs": [],
   "source": [
    "#СПИСОК (упорядочены)\n",
    "a=[1,2,3,4]\n",
    "a.append(5)\n",
    "a.remove(1)\n",
    "a.pop(0) #удаляет по индексу, если ничего не указано - посл элемент. При этом он возвращает удаленный элемент\n",
    "a.extend([3, 4]) #добавить список элементов\n",
    "a.insert(0, 1) #индекс 0, значение 1\n",
    "a.reverse()\n",
    "sorted(a)\n",
    "a.count(1)#количество повторений\n",
    "#если есть список а, мы создаем переменную b=a, то при изменении a изменится и b. Чтоб сделать копию b=a.copy()"
   ]
  },
  {
   "cell_type": "code",
   "execution_count": null,
   "metadata": {},
   "outputs": [],
   "source": [
    "#удаление элемента или куска\n",
    "#del xs[:2]\n",
    "#xs.pop[2] - удалит элемент и вернет его\n",
    "#xs.remove[2] - удалить по значению первое попавшееся"
   ]
  },
  {
   "cell_type": "code",
   "execution_count": 2,
   "metadata": {},
   "outputs": [
    {
     "data": {
      "text/plain": [
       "[0, 0, 0]"
      ]
     },
     "execution_count": 2,
     "metadata": {},
     "output_type": "execute_result"
    }
   ],
   "source": [
    "l=[]\n",
    "l[0:3]=[0,0,0]\n",
    "l"
   ]
  },
  {
   "cell_type": "code",
   "execution_count": 4,
   "metadata": {},
   "outputs": [
    {
     "name": "stdout",
     "output_type": "stream",
     "text": [
      "0 a\n",
      "1 b\n",
      "2 c\n"
     ]
    }
   ],
   "source": [
    "q=['a','b','c']\n",
    "for index,value in enumerate(q):\n",
    "    print (index,value)"
   ]
  },
  {
   "cell_type": "code",
   "execution_count": 5,
   "metadata": {},
   "outputs": [
    {
     "name": "stdout",
     "output_type": "stream",
     "text": [
      "['Jefferson', 'Wesley', 'Steven', 'Jennifer', 'Stephanie']\n",
      "['Jefferson', 'Wesley', 'Steven', 'Jennifer', 'Stephanie']\n"
     ]
    }
   ],
   "source": [
    "#есть 2 списка. Нужно их объединить и отобразить имена только с 2 буквами е\n",
    "all_data =[['Tom', 'Billy', 'Jefferson', 'Andrew', 'Wesley','Steven', 'Joe'],['Susie', 'Casey', 'Jill', 'Ana', 'Eva', 'Jennifer',\n",
    "'Stephanie']]\n",
    "result = [name for names in all_data for name in names if name.count('e') >=2]\n",
    "print (result)\n",
    "#способ с циклом\n",
    "all_data =[['Tom', 'Billy', 'Jefferson', 'Andrew', 'Wesley','Steven', 'Joe'],['Susie', 'Casey', 'Jill', 'Ana', 'Eva', 'Jennifer',\n",
    "'Stephanie']]\n",
    "names_of_interest = []\n",
    "for names in all_data:\n",
    "    enough_es = [name for name in names if name.count('e') >= 2]\n",
    "    names_of_interest.extend (enough_es)\n",
    "print (names_of_interest)"
   ]
  },
  {
   "cell_type": "code",
   "execution_count": null,
   "metadata": {
    "collapsed": true
   },
   "outputs": [],
   "source": [
    "#сортировка\n",
    "xs = [3, 2, 1]\n",
    "sorted(xs)\n",
    "xs.sort()\n",
    "xs.sort(key=lambda x: x % 2, reverse=True)"
   ]
  },
  {
   "cell_type": "markdown",
   "metadata": {},
   "source": [
    "# СЛОВАРЬ"
   ]
  },
  {
   "cell_type": "code",
   "execution_count": 26,
   "metadata": {},
   "outputs": [
    {
     "name": "stdout",
     "output_type": "stream",
     "text": [
      "Age was found 33 time(s).\n",
      "Gender was found Male time(s).\n",
      "Home Planet was found Betelgeuse Seven time(s).\n",
      "Name was found Ford Prefect time(s).\n",
      "Occupation was found Researcher time(s).\n"
     ]
    }
   ],
   "source": [
    "person = { 'Name': 'Ford Prefect', 'Gender': 'Male',   'Occupation': 'Researcher',   'Home Planet': 'Betelgeuse Seven'}\n",
    "person['Age'] = 33 #добавит элемент\n",
    "person.setdefault('pears', 0) #дефолт значение (если ключа нет в словаре, то добавит это)"
   ]
  },
  {
   "cell_type": "code",
   "execution_count": null,
   "metadata": {
    "collapsed": true
   },
   "outputs": [],
   "source": [
    "del person['a']\n",
    "print person.keys()"
   ]
  },
  {
   "cell_type": "code",
   "execution_count": 1,
   "metadata": {},
   "outputs": [
    {
     "data": {
      "text/plain": [
       "101"
      ]
     },
     "execution_count": 1,
     "metadata": {},
     "output_type": "execute_result"
    }
   ],
   "source": [
    "#если ключа нет, то вернет указанный дефолт\n",
    "person = { 'Name': 'Ford Prefect', 'Gender': 'Male',   'Occupation': 'Researcher',   'Home Planet': 'Betelgeuse Seven'}\n",
    "person.get('Country',101)"
   ]
  },
  {
   "cell_type": "code",
   "execution_count": null,
   "metadata": {
    "collapsed": true
   },
   "outputs": [],
   "source": [
    "#способы перебора ключей и значений\n",
    "for k in sorted(person): \n",
    "    print(k, 'was found', person[k], 'time(s).')"
   ]
  },
  {
   "cell_type": "code",
   "execution_count": null,
   "metadata": {
    "collapsed": true
   },
   "outputs": [],
   "source": [
    "#способы перебора ключей и значений\n",
    "for k, v in sorted(person.items()): \n",
    "    print(k, 'was found', v, 'time(s).')"
   ]
  },
  {
   "cell_type": "code",
   "execution_count": 36,
   "metadata": {},
   "outputs": [
    {
     "name": "stdout",
     "output_type": "stream",
     "text": [
      "{'Arthur': {'Gender': 'Male',\n",
      "            'Home Planet': 'Earth',\n",
      "            'Name': 'Arthur Dent',\n",
      "            'Occupation': 'Sandwich-Maker'},\n",
      " 'Ford': {'Gender': 'Male',\n",
      "          'Home Planet': 'Betelgeuse Seven',\n",
      "          'Name': 'Ford Prefect',\n",
      "          'Occupation': 'Researcher'},\n",
      " 'Robot': {'Gender': 'Unknown',\n",
      "           'Home Planet': 'Unknown',\n",
      "           'Name': 'Marvin',\n",
      "           'Occupation': 'Paranoid Android'},\n",
      " 'Trillian': {'Gender': 'Female',\n",
      "              'Home Planet': 'Earth',\n",
      "              'Name': 'Tricia McMillan',\n",
      "              'Occupation': 'Mathematician'}}\n"
     ]
    }
   ],
   "source": [
    "#словарь словарей и его красивый вывод\n",
    "people = {'Ford': {'Occupation': 'Researcher', 'Gender': 'Male', 'Home Planet': 'Betelgeuse Seven', 'Name': 'Ford Prefect'}, \n",
    "'Trillian': {'Occupation': 'Mathematician', 'Gender': 'Female', 'Home Planet': 'Earth', 'Name': 'Tricia McMillan'}, \n",
    " 'Robot': {'Occupation': 'Paranoid Android', 'Gender': 'Unknown', 'Home Planet': 'Unknown', 'Name': 'Marvin'}, \n",
    " 'Arthur': {'Occupation': 'Sandwich-Maker', 'Gender': 'Male', 'Home Planet': 'Earth', 'Name': 'Arthur Dent'}} \n",
    "import pprint\n",
    "pprint.pprint(people)"
   ]
  },
  {
   "cell_type": "code",
   "execution_count": null,
   "metadata": {
    "collapsed": true
   },
   "outputs": [],
   "source": [
    "#Конструктор dict позволяет создать словарь без использования литералов:\n",
    "d = dict(foo=\"bar\")\n",
    "dict(d) # (shallow) копия\n",
    "dict(d, boo=\"baz\") # копирование с добавлением ключей\n",
    "#Метод setdefault позволяет за один запрос к хеш-таблице проверить, есть ли в ней значение по некоторому ключу и,\n",
    "#если значения нет, установить его в заданное.\n",
    "d = {\"foo\": \"bar\"}\n",
    "d.setdefault(\"foo\", \"???\")"
   ]
  },
  {
   "cell_type": "code",
   "execution_count": null,
   "metadata": {},
   "outputs": [],
   "source": [
    "#если ключа нет, то по дефолту 42\n",
    "d.get('key',42)"
   ]
  },
  {
   "cell_type": "code",
   "execution_count": null,
   "metadata": {},
   "outputs": [],
   "source": [
    "#если есть ключ key то вернет его значение, если нет, то добавит его в словарь со значением 42\n",
    "d.setdefault('key',42)"
   ]
  },
  {
   "cell_type": "markdown",
   "metadata": {},
   "source": [
    "# МНОЖЕСТВА"
   ]
  },
  {
   "cell_type": "code",
   "execution_count": 32,
   "metadata": {
    "collapsed": true
   },
   "outputs": [],
   "source": [
    "#МНОЖЕСТВА (без повторений, неупорядочено)\n",
    "vowels = { 'a', 'e', 'e', 'i', 'o', 'u', 'u' }\n",
    "vowels2 = set('aeeiouu') #другой способ создать то же\n",
    "#объединение множеств (difference - различия, intersection -общее)\n",
    "word='dvebrtbr'\n",
    "u = vowels.union(set(word))"
   ]
  },
  {
   "cell_type": "code",
   "execution_count": null,
   "metadata": {
    "collapsed": true
   },
   "outputs": [],
   "source": [
    "#Добавить один элемент в множестве можно с помощью метода add, добавить последовательность элементов — с помощью метода update:\n",
    "seen = set()\n",
    "seen.add(42)\n",
    "print(seen)\n",
    "seen.update([1, 2])\n",
    "print(seen)\n",
    "#Метод remove удаляет из множества существующий элемент или поднимает исключение, если элемент во множестве не содержится\n",
    "#В отличие от метода remove метод discard удаляет элемент, только если он содержится во множестве"
   ]
  },
  {
   "cell_type": "markdown",
   "metadata": {},
   "source": [
    "# КОРТЕЖ"
   ]
  },
  {
   "cell_type": "code",
   "execution_count": 33,
   "metadata": {
    "collapsed": true
   },
   "outputs": [],
   "source": [
    "#КОРТЕЖ\n",
    "a=(1,2,3)\n",
    "a=('Python')#кортеж из 1 элемента не кортеж (тут - строка). Чтоб был кортеж минимально так a=('Python',)"
   ]
  },
  {
   "cell_type": "code",
   "execution_count": 1,
   "metadata": {},
   "outputs": [
    {
     "data": {
      "text/plain": [
       "(3, 2, 1)"
      ]
     },
     "execution_count": 1,
     "metadata": {},
     "output_type": "execute_result"
    }
   ],
   "source": [
    "tuple(reversed((1, 2, 3)))"
   ]
  },
  {
   "cell_type": "code",
   "execution_count": 2,
   "metadata": {},
   "outputs": [
    {
     "data": {
      "text/plain": [
       "(3, 2, 1, 1, 2, 3, 4, 5, 7)"
      ]
     },
     "execution_count": 2,
     "metadata": {},
     "output_type": "execute_result"
    }
   ],
   "source": [
    "#concat - создается копия кортежа\n",
    "(3, 2, 1) + (1,2,3,4,5,7)"
   ]
  },
  {
   "cell_type": "code",
   "execution_count": 26,
   "metadata": {},
   "outputs": [
    {
     "data": {
      "text/plain": [
       "(1, 2, 3, 4)"
      ]
     },
     "execution_count": 26,
     "metadata": {},
     "output_type": "execute_result"
    }
   ],
   "source": [
    "#slice\n",
    "#slice(start, stop, step)\n",
    "f=(1,2,3,4)\n",
    "sl=slice(0,None)#None - до конца\n",
    "f[sl]"
   ]
  },
  {
   "cell_type": "markdown",
   "metadata": {},
   "source": [
    "# ФУНКЦИОН ПРОГРАММИРОВАНИЕ"
   ]
  },
  {
   "cell_type": "code",
   "execution_count": null,
   "metadata": {},
   "outputs": [],
   "source": [
    "#lambda foo, *args, bar=None, **kwargs: 42"
   ]
  },
  {
   "cell_type": "code",
   "execution_count": 11,
   "metadata": {},
   "outputs": [
    {
     "data": {
      "text/plain": [
       "[1, 2, 2, 6, 2, 5]"
      ]
     },
     "execution_count": 11,
     "metadata": {},
     "output_type": "execute_result"
    }
   ],
   "source": [
    "#Применяет функцию к каждому элементу последовательности\n",
    "list(map(lambda x: x % 7, [1, 9, 16, -1, 2, 5]))"
   ]
  },
  {
   "cell_type": "code",
   "execution_count": 1,
   "metadata": {},
   "outputs": [
    {
     "data": {
      "text/plain": [
       "17"
      ]
     },
     "execution_count": 1,
     "metadata": {},
     "output_type": "execute_result"
    }
   ],
   "source": [
    "(lambda x, y: x**2 + y**2)(1, 4)"
   ]
  },
  {
   "cell_type": "code",
   "execution_count": 12,
   "metadata": {},
   "outputs": [
    {
     "data": {
      "text/plain": [
       "[2, 9]"
      ]
     },
     "execution_count": 12,
     "metadata": {},
     "output_type": "execute_result"
    }
   ],
   "source": [
    "#или последовательностей, количество элементов в результате определяется длиной наименьшей из последовательностей\n",
    "list(map(lambda x, n: x ** n,[2, 3], range(1, 8)))"
   ]
  },
  {
   "cell_type": "code",
   "execution_count": 13,
   "metadata": {},
   "outputs": [
    {
     "data": {
      "text/plain": [
       "[1, 3, 5, 7, 9]"
      ]
     },
     "execution_count": 13,
     "metadata": {},
     "output_type": "execute_result"
    }
   ],
   "source": [
    "#Убирает из последовательности элементы, не удовлетворяющие предикату\n",
    "list(filter(lambda x: x % 2 != 0, range(10)))"
   ]
  },
  {
   "cell_type": "code",
   "execution_count": 15,
   "metadata": {},
   "outputs": [
    {
     "data": {
      "text/plain": [
       "[42]"
      ]
     },
     "execution_count": 15,
     "metadata": {},
     "output_type": "execute_result"
    }
   ],
   "source": [
    "#Вместо предиката можно передать None, в этом случае в последовательности останутся только truthy значения\n",
    "xs = [0, None, [], {}, \"\", 42]\n",
    "list(filter(None, xs))"
   ]
  },
  {
   "cell_type": "code",
   "execution_count": 16,
   "metadata": {},
   "outputs": [
    {
     "data": {
      "text/plain": [
       "[('a', 0, 42j), ('b', 1, 42j), ('c', 2, 42j)]"
      ]
     },
     "execution_count": 16,
     "metadata": {},
     "output_type": "execute_result"
    }
   ],
   "source": [
    "#Строит последовательность кортежей из элементов нескольких последовательностей\n",
    "list(zip(\"abc\", range(3), [42j, 42j, 42j]))"
   ]
  },
  {
   "cell_type": "code",
   "execution_count": null,
   "metadata": {},
   "outputs": [],
   "source": []
  },
  {
   "cell_type": "code",
   "execution_count": 20,
   "metadata": {},
   "outputs": [
    {
     "data": {
      "text/plain": [
       "[0, 1, 2, 3, 4, 8, 9]"
      ]
     },
     "execution_count": 20,
     "metadata": {},
     "output_type": "execute_result"
    }
   ],
   "source": [
    "#генератор списков\n",
    "#Могут быть вложенными\n",
    "nested = [range(5), range(8, 10)]\n",
    "[x for xs in nested for x in xs] # flatten"
   ]
  },
  {
   "cell_type": "code",
   "execution_count": 21,
   "metadata": {},
   "outputs": [
    {
     "data": {
      "text/plain": [
       "{'year': 2014, 'month': 'September'}"
      ]
     },
     "execution_count": 21,
     "metadata": {},
     "output_type": "execute_result"
    }
   ],
   "source": [
    "#генератор словарей\n",
    "date = {\"year\": 2014, \"month\": \"September\", \"day\": \"\"}\n",
    "{k: v for k, v in date.items() if v}"
   ]
  },
  {
   "cell_type": "markdown",
   "metadata": {},
   "source": [
    "# Итератор, генератор"
   ]
  },
  {
   "cell_type": "markdown",
   "metadata": {},
   "source": [
    "Протокол итераторов состоит из двух методов:<br>\n",
    "• Метод __iter__ возвращает экземпляр класса, реализующего протокол итераторов, например, self.<br>\n",
    "• Метод __next__ возвращает следующий по порядку элемент итератора. Если такого элемента нет, то метод должен поднять исключение StopIteration."
   ]
  },
  {
   "cell_type": "markdown",
   "metadata": {},
   "source": [
    "Итератор — это экземпляр класса, который реализует два метода __init__ и __next__."
   ]
  },
  {
   "cell_type": "code",
   "execution_count": null,
   "metadata": {},
   "outputs": [],
   "source": [
    "for x in xs:\n",
    "    do_something(x)\n",
    "#Процесс исполнения оператора for можно концептуально записать так:\n",
    "it = iter(xs)\n",
    "    while True:\n",
    "        try:\n",
    "            x = next(it)\n",
    "        except StopIteration:\n",
    "            break\n",
    "        do_something(x)\n"
   ]
  },
  {
   "cell_type": "markdown",
   "metadata": {},
   "source": [
    "Генератор — это функция, которая использует не только оператор return, но и оператор yield.<br>\n",
    "В результате выполнения оператора yield работа функции приостанавливается, а не прерывается, как при использовании оператора return."
   ]
  },
  {
   "cell_type": "code",
   "execution_count": 36,
   "metadata": {},
   "outputs": [
    {
     "name": "stdout",
     "output_type": "stream",
     "text": [
      "Started\n",
      "Done\n"
     ]
    },
    {
     "ename": "StopIteration",
     "evalue": "",
     "output_type": "error",
     "traceback": [
      "\u001b[1;31m---------------------------------------------------------------------------\u001b[0m",
      "\u001b[1;31mStopIteration\u001b[0m                             Traceback (most recent call last)",
      "\u001b[1;32m<ipython-input-36-bfc1d408b8ab>\u001b[0m in \u001b[0;36m<module>\u001b[1;34m\u001b[0m\n\u001b[0;32m      9\u001b[0m \u001b[0mnext\u001b[0m\u001b[1;33m(\u001b[0m\u001b[0mgen\u001b[0m\u001b[1;33m)\u001b[0m\u001b[1;33m\u001b[0m\u001b[1;33m\u001b[0m\u001b[0m\n\u001b[0;32m     10\u001b[0m \u001b[0mnext\u001b[0m\u001b[1;33m(\u001b[0m\u001b[0mgen\u001b[0m\u001b[1;33m)\u001b[0m\u001b[1;33m\u001b[0m\u001b[1;33m\u001b[0m\u001b[0m\n\u001b[1;32m---> 11\u001b[1;33m \u001b[0mnext\u001b[0m\u001b[1;33m(\u001b[0m\u001b[0mgen\u001b[0m\u001b[1;33m)\u001b[0m\u001b[1;33m\u001b[0m\u001b[1;33m\u001b[0m\u001b[0m\n\u001b[0m",
      "\u001b[1;31mStopIteration\u001b[0m: "
     ]
    }
   ],
   "source": [
    "def g():\n",
    "    print(\"Started\")\n",
    "    x = 42\n",
    "    yield x\n",
    "    x += 1\n",
    "    yield x\n",
    "    print(\"Done\")\n",
    "gen = g()\n",
    "next(gen)\n",
    "next(gen)\n",
    "next(gen)"
   ]
  },
  {
   "cell_type": "code",
   "execution_count": 38,
   "metadata": {},
   "outputs": [
    {
     "data": {
      "text/plain": [
       "[1, 2, 3, 4, 6, 7]"
      ]
     },
     "execution_count": 38,
     "metadata": {},
     "output_type": "execute_result"
    }
   ],
   "source": [
    "#объединить н итерируемых объектов\n",
    "def chain(*iterables):\n",
    "    for iterable in iterables:\n",
    "        for item in iterable:\n",
    "            yield item\n",
    "x=[1,2,3,4]\n",
    "t=set([6,7])\n",
    "list(chain(x,t))"
   ]
  },
  {
   "cell_type": "code",
   "execution_count": 43,
   "metadata": {},
   "outputs": [
    {
     "name": "stdout",
     "output_type": "stream",
     "text": [
      "0\n",
      "1\n"
     ]
    }
   ],
   "source": [
    "def count(start=0):\n",
    "    while True:\n",
    "        yield start\n",
    "        start += 1\n",
    "\n",
    "counter = count()\n",
    "print(next(counter))\n",
    "print(next(counter))"
   ]
  },
  {
   "cell_type": "markdown",
   "metadata": {},
   "source": [
    "# РАЗНОЕ"
   ]
  },
  {
   "cell_type": "code",
   "execution_count": 13,
   "metadata": {},
   "outputs": [
    {
     "data": {
      "text/plain": [
       "True"
      ]
     },
     "execution_count": 13,
     "metadata": {},
     "output_type": "execute_result"
    }
   ],
   "source": [
    "#бесконечно большое число\n",
    "float('inf')>10000000"
   ]
  },
  {
   "cell_type": "code",
   "execution_count": null,
   "metadata": {},
   "outputs": [],
   "source": [
    "#если seen=None, то []\n",
    "new = set(seen or []) # None --- falsy"
   ]
  },
  {
   "cell_type": "code",
   "execution_count": 27,
   "metadata": {},
   "outputs": [
    {
     "data": {
      "text/plain": [
       "10"
      ]
     },
     "execution_count": 27,
     "metadata": {},
     "output_type": "execute_result"
    }
   ],
   "source": [
    "#тернырный оператор\n",
    "y=4\n",
    "x = 10 if y > 3 else 20\n",
    "x"
   ]
  },
  {
   "cell_type": "code",
   "execution_count": 7,
   "metadata": {},
   "outputs": [
    {
     "name": "stdout",
     "output_type": "stream",
     "text": [
      "[0, 1, 4, 9, 16, 25, 36, 49, 64, 81]\n"
     ]
    }
   ],
   "source": [
    "#генератор списка\n",
    "print ([x**2 for x in range(10)])"
   ]
  },
  {
   "cell_type": "code",
   "execution_count": null,
   "metadata": {
    "collapsed": true
   },
   "outputs": [],
   "source": [
    "for i in 'hello world':\n",
    "    if i == 'l':\n",
    "        continue\n",
    "    print(i * 2)"
   ]
  },
  {
   "cell_type": "code",
   "execution_count": null,
   "metadata": {
    "collapsed": true
   },
   "outputs": [],
   "source": [
    "for i in 'hello world':\n",
    "    if i == 'o':\n",
    "        break\n",
    "    print(i * 2)"
   ]
  },
  {
   "cell_type": "markdown",
   "metadata": {},
   "source": [
    "# КЛАССЫ"
   ]
  },
  {
   "cell_type": "code",
   "execution_count": 48,
   "metadata": {},
   "outputs": [
    {
     "data": {
      "text/plain": [
       "105"
      ]
     },
     "execution_count": 48,
     "metadata": {},
     "output_type": "execute_result"
    }
   ],
   "source": [
    "#__repr__ позволяет возвращать репрезентацию объекта. Если этого не сделать то вернет <__main__.ass at 0x11d78d0>\n",
    "class ass:\n",
    "    def __init__(self,var):\n",
    "        self.var=var+100\n",
    "    def __repr__(self):\n",
    "        return str(self.var)\n",
    "b=ass(5)\n",
    "b"
   ]
  },
  {
   "cell_type": "code",
   "execution_count": null,
   "metadata": {},
   "outputs": [],
   "source": [
    "class Greeting():\n",
    "    def greet(self):\n",
    "        print 'hi'\n",
    "x=Greeting()\n",
    "x.greet()"
   ]
  },
  {
   "cell_type": "code",
   "execution_count": 7,
   "metadata": {},
   "outputs": [
    {
     "name": "stdout",
     "output_type": "stream",
     "text": [
      "hi Vova\n",
      "None\n"
     ]
    }
   ],
   "source": [
    "class Name:\n",
    "    def __init__(self,name):\n",
    "        self.name=name\n",
    "    def greet(self):\n",
    "        print ('hi',self.name)\n",
    "x=Name('Vova')\n",
    "print (x.greet())"
   ]
  },
  {
   "cell_type": "code",
   "execution_count": 8,
   "metadata": {},
   "outputs": [
    {
     "data": {
      "text/plain": [
       "'some info'"
      ]
     },
     "execution_count": 8,
     "metadata": {},
     "output_type": "execute_result"
    }
   ],
   "source": [
    "#документация\n",
    "def f():\n",
    "    \"some info\"\n",
    "    pass\n",
    "f.__doc__"
   ]
  },
  {
   "cell_type": "code",
   "execution_count": 9,
   "metadata": {},
   "outputs": [
    {
     "name": "stdout",
     "output_type": "stream",
     "text": [
      "red\n",
      "red\n",
      "red!\n",
      "red!\n"
     ]
    }
   ],
   "source": [
    "class First:\n",
    "    color = \"red\"\n",
    "    def out(self):\n",
    "        print (self.color + \"!\")\n",
    "obj1 = First()\n",
    "obj2 = First() \n",
    "print (obj1.color)\n",
    "print (obj2.color)\n",
    "obj1.out()\n",
    "obj2.out() "
   ]
  },
  {
   "cell_type": "code",
   "execution_count": 10,
   "metadata": {},
   "outputs": [
    {
     "name": "stdout",
     "output_type": "stream",
     "text": [
      "red circle\n",
      "red circle\n",
      "green circle\n",
      "blue oval\n"
     ]
    }
   ],
   "source": [
    "class Second:\n",
    "    color = \"red\"\n",
    "    form = \"circle\"\n",
    "    def changecolor(self,newcolor):\n",
    "        self.color = newcolor\n",
    "    def changeform(self,newform):\n",
    "        self.form = newform\n",
    "\n",
    "obj1 = Second()\n",
    "obj2 = Second()\n",
    " \n",
    "print (obj1.color, obj1.form) # вывод на экран \"red circle\"\n",
    "print (obj2.color, obj2.form) # вывод на экран \"red circle\"\n",
    " \n",
    "obj1.changecolor(\"green\") # изменение цвета первого объекта\n",
    "obj2.changecolor(\"blue\")  # изменение цвет второго объекта\n",
    "obj2.changeform(\"oval\")   # изменение формы второго объекта\n",
    " \n",
    "print (obj1.color, obj1.form) # вывод на экран \"green circle\"\n",
    "print (obj2.color, obj2.form) # вывод на экран \"blue oval\""
   ]
  },
  {
   "cell_type": "markdown",
   "metadata": {},
   "source": [
    "# СОХРАНЕНИЕ ПЕРЕМЕННЫХ В ФАЙЛ"
   ]
  },
  {
   "cell_type": "markdown",
   "metadata": {},
   "source": [
    "# с помощью модуля shelve"
   ]
  },
  {
   "cell_type": "code",
   "execution_count": null,
   "metadata": {
    "collapsed": true
   },
   "outputs": [],
   "source": [
    "import shelve\n",
    "shelfFile=shelve.open('mydata') #сам создает файлы хранения\n",
    "cats=['Sophie','Nina','Nata']\n",
    "shelfFile['cats']=cats\n",
    "shelfFile.close()"
   ]
  },
  {
   "cell_type": "code",
   "execution_count": null,
   "metadata": {
    "collapsed": true
   },
   "outputs": [],
   "source": [
    "shelfFile=shelve.open('mydata')\n",
    "print(shelfFile['cats'])\n",
    "print(list(shelfFile.keys()))\n",
    "print(list(shelfFile.values()))\n",
    "shelfFile.close()"
   ]
  },
  {
   "cell_type": "markdown",
   "metadata": {},
   "source": [
    "# с помощью pprint"
   ]
  },
  {
   "cell_type": "code",
   "execution_count": 23,
   "metadata": {
    "collapsed": true
   },
   "outputs": [],
   "source": [
    "#так удобно форматировать файлы вручную. Но предыдущий метод более приемлем\n",
    "import pprint\n",
    "cats=[{'name':'Sophie','desc':'white'},{'name':'Nina','desc':'black'}]\n",
    "pprint.pformat(cats)\n",
    "fileObj=open('myCats.py','w')\n",
    "fileObj.write('cats = '+pprint.pformat(cats)+'\\n')\n",
    "fileObj.close()"
   ]
  },
  {
   "cell_type": "code",
   "execution_count": 25,
   "metadata": {},
   "outputs": [
    {
     "data": {
      "text/plain": [
       "'Sophie'"
      ]
     },
     "execution_count": 25,
     "metadata": {},
     "output_type": "execute_result"
    }
   ],
   "source": [
    "import myCats\n",
    "myCats.cats\n",
    "myCats.cats[0]['name']"
   ]
  },
  {
   "cell_type": "markdown",
   "metadata": {
    "collapsed": true
   },
   "source": [
    "# РАБОТА С ФАЙЛАМИ"
   ]
  },
  {
   "cell_type": "code",
   "execution_count": null,
   "metadata": {
    "collapsed": true
   },
   "outputs": [],
   "source": [
    "todos = open('todos.txt', 'a')\n",
    "#w - файл перезапишется, r - для чтения, a - добавит записи вниз, x - вызов завершится неудачей если файл уже существует\n",
    "#wt - если файла нет то он создастя\n",
    "for chore in tasks: #читаем файл  \n",
    "    print(chore)  #чтоб не было пустых строк - print(chore, end=’’)\n",
    "print('Put out the trash.', file=todos) #записать в файл\n",
    "todos.close()"
   ]
  },
  {
   "cell_type": "code",
   "execution_count": null,
   "metadata": {
    "collapsed": true
   },
   "outputs": [],
   "source": [
    "with open('todos.txt') as tasks: \n",
    "    for chore in tasks: \n",
    "        print(chore, end='')"
   ]
  },
  {
   "cell_type": "code",
   "execution_count": 10,
   "metadata": {},
   "outputs": [
    {
     "name": "stdout",
     "output_type": "stream",
     "text": [
      "{'09:35': 'FREEPORT',\n",
      " '09:55': 'WEST END',\n",
      " '10:45': 'TREASURE CAY',\n",
      " '11:45': 'ROCK SOUND',\n",
      " '12:00': 'TREASURE CAY',\n",
      " '17:00': 'FREEPORT',\n",
      " '17:55': 'ROCK SOUND',\n",
      " '19:00': 'WEST END'}\n",
      "\n",
      "{'05:00PM': 'Freeport',\n",
      " '05:55PM': 'Rock Sound',\n",
      " '07:00PM': 'West End',\n",
      " '09:35AM': 'Freeport',\n",
      " '09:55AM': 'West End',\n",
      " '10:45AM': 'Treasure Cay',\n",
      " '11:45AM': 'Rock Sound',\n",
      " '12:00PM': 'Treasure Cay'}\n",
      "\n",
      "{'Freeport': ['05:00PM', '09:35AM'],\n",
      " 'Rock Sound': ['05:55PM', '11:45AM'],\n",
      " 'Treasure Cay': ['10:45AM', '12:00PM'],\n",
      " 'West End': ['07:00PM', '09:55AM']}\n",
      "\n"
     ]
    }
   ],
   "source": [
    "#читаем CSV, формируем из данных словарь, меняем формат времени и аппер для городов\n",
    "from datetime import datetime\n",
    "import pprint\n",
    "\n",
    "def convert2ampm(time24: str) -> str:\n",
    "    return datetime.strptime(time24, '%H:%M').strftime('%I:%M%p')\n",
    "\n",
    "with open('buzzers.csv') as data:\n",
    "    ignore = data.readline()\n",
    "    flights = {}\n",
    "    for line in data:\n",
    "        k, v = line.strip().split(',')\n",
    "        flights[k] = v\n",
    "\n",
    "pprint.pprint(flights)\n",
    "print()\n",
    "\n",
    "fts = {convert2ampm(k): v.title() for k, v in flights.items()}\n",
    "\n",
    "pprint.pprint(fts)\n",
    "print()\n",
    "\n",
    "when = {dest: [k for k, v in fts.items() if v == dest] for dest in set(fts.values())}\n",
    "\n",
    "pprint.pprint(when)\n",
    "print()"
   ]
  },
  {
   "cell_type": "markdown",
   "metadata": {},
   "source": [
    "# ИСКЛЮЧЕНИЯ"
   ]
  },
  {
   "cell_type": "code",
   "execution_count": 4,
   "metadata": {},
   "outputs": [
    {
     "name": "stdout",
     "output_type": "stream",
     "text": [
      "failed\n"
     ]
    }
   ],
   "source": [
    "try:\n",
    "    1/0\n",
    "except Exception as e:\n",
    "    try:\n",
    "        #print('go')\n",
    "        1/0\n",
    "    except type(e):\n",
    "        print('failed')"
   ]
  },
  {
   "cell_type": "code",
   "execution_count": 5,
   "metadata": {},
   "outputs": [
    {
     "ename": "AssertionError",
     "evalue": "('Math', 'still', 'works')",
     "output_type": "error",
     "traceback": [
      "\u001b[1;31m---------------------------------------------------------------------------\u001b[0m",
      "\u001b[1;31mAssertionError\u001b[0m                            Traceback (most recent call last)",
      "\u001b[1;32m<ipython-input-5-b82afb01ec7b>\u001b[0m in \u001b[0;36m<module>\u001b[1;34m()\u001b[0m\n\u001b[0;32m      1\u001b[0m \u001b[1;31m#Исключение AssertionError поднимается, когда условие оператора assert не выполняется:\u001b[0m\u001b[1;33m\u001b[0m\u001b[1;33m\u001b[0m\u001b[0m\n\u001b[1;32m----> 2\u001b[1;33m \u001b[1;32massert\u001b[0m \u001b[1;36m2\u001b[0m \u001b[1;33m+\u001b[0m \u001b[1;36m2\u001b[0m \u001b[1;33m==\u001b[0m \u001b[1;36m5\u001b[0m\u001b[1;33m,\u001b[0m \u001b[1;33m(\u001b[0m\u001b[1;34m\"Math\"\u001b[0m\u001b[1;33m,\u001b[0m \u001b[1;34m\"still\"\u001b[0m\u001b[1;33m,\u001b[0m \u001b[1;34m\"works\"\u001b[0m\u001b[1;33m)\u001b[0m\u001b[1;33m\u001b[0m\u001b[0m\n\u001b[0m",
      "\u001b[1;31mAssertionError\u001b[0m: ('Math', 'still', 'works')"
     ]
    }
   ],
   "source": [
    "#Исключение AssertionError поднимается, когда условие оператора assert не выполняется:\n",
    "assert 2 + 2 == 5, (\"Math\", \"still\", \"works\")"
   ]
  },
  {
   "cell_type": "code",
   "execution_count": 6,
   "metadata": {},
   "outputs": [
    {
     "ename": "TypeError",
     "evalue": "type mismatch",
     "output_type": "error",
     "traceback": [
      "\u001b[1;31m---------------------------------------------------------------------------\u001b[0m",
      "\u001b[1;31mTypeError\u001b[0m                                 Traceback (most recent call last)",
      "\u001b[1;32m<ipython-input-6-2538240507b1>\u001b[0m in \u001b[0;36m<module>\u001b[1;34m()\u001b[0m\n\u001b[0;32m      1\u001b[0m \u001b[1;31m#Поднять исключение можно с помощью оператора raise:\u001b[0m\u001b[1;33m\u001b[0m\u001b[1;33m\u001b[0m\u001b[0m\n\u001b[1;32m----> 2\u001b[1;33m \u001b[1;32mraise\u001b[0m \u001b[0mTypeError\u001b[0m\u001b[1;33m(\u001b[0m\u001b[1;34m\"type mismatch\"\u001b[0m\u001b[1;33m)\u001b[0m\u001b[1;33m\u001b[0m\u001b[0m\n\u001b[0m",
      "\u001b[1;31mTypeError\u001b[0m: type mismatch"
     ]
    }
   ],
   "source": [
    "#Поднять исключение можно с помощью оператора raise:\n",
    "raise TypeError(\"type mismatch\")"
   ]
  },
  {
   "cell_type": "code",
   "execution_count": 7,
   "metadata": {},
   "outputs": [
    {
     "ename": "RuntimeError",
     "evalue": "Ooops!",
     "output_type": "error",
     "traceback": [
      "\u001b[1;31m---------------------------------------------------------------------------\u001b[0m",
      "\u001b[1;31mKeyError\u001b[0m                                  Traceback (most recent call last)",
      "\u001b[1;32m<ipython-input-7-d6e58910d892>\u001b[0m in \u001b[0;36m<module>\u001b[1;34m()\u001b[0m\n\u001b[0;32m      1\u001b[0m \u001b[1;32mtry\u001b[0m\u001b[1;33m:\u001b[0m\u001b[1;33m\u001b[0m\u001b[0m\n\u001b[1;32m----> 2\u001b[1;33m     \u001b[1;33m{\u001b[0m\u001b[1;33m}\u001b[0m\u001b[1;33m[\u001b[0m\u001b[1;34m\"foobar\"\u001b[0m\u001b[1;33m]\u001b[0m\u001b[1;33m\u001b[0m\u001b[0m\n\u001b[0m\u001b[0;32m      3\u001b[0m \u001b[1;32mexcept\u001b[0m \u001b[0mKeyError\u001b[0m \u001b[1;32mas\u001b[0m \u001b[0me\u001b[0m\u001b[1;33m:\u001b[0m\u001b[1;33m\u001b[0m\u001b[0m\n",
      "\u001b[1;31mKeyError\u001b[0m: 'foobar'",
      "\nThe above exception was the direct cause of the following exception:\n",
      "\u001b[1;31mRuntimeError\u001b[0m                              Traceback (most recent call last)",
      "\u001b[1;32m<ipython-input-7-d6e58910d892>\u001b[0m in \u001b[0;36m<module>\u001b[1;34m()\u001b[0m\n\u001b[0;32m      2\u001b[0m     \u001b[1;33m{\u001b[0m\u001b[1;33m}\u001b[0m\u001b[1;33m[\u001b[0m\u001b[1;34m\"foobar\"\u001b[0m\u001b[1;33m]\u001b[0m\u001b[1;33m\u001b[0m\u001b[0m\n\u001b[0;32m      3\u001b[0m \u001b[1;32mexcept\u001b[0m \u001b[0mKeyError\u001b[0m \u001b[1;32mas\u001b[0m \u001b[0me\u001b[0m\u001b[1;33m:\u001b[0m\u001b[1;33m\u001b[0m\u001b[0m\n\u001b[1;32m----> 4\u001b[1;33m     \u001b[1;32mraise\u001b[0m \u001b[0mRuntimeError\u001b[0m\u001b[1;33m(\u001b[0m\u001b[1;34m\"Ooops!\"\u001b[0m\u001b[1;33m)\u001b[0m \u001b[1;32mfrom\u001b[0m \u001b[0me\u001b[0m\u001b[1;33m\u001b[0m\u001b[0m\n\u001b[0m",
      "\u001b[1;31mRuntimeError\u001b[0m: Ooops!"
     ]
    }
   ],
   "source": [
    "#указать другое исключение, которое стало причиной основного\n",
    "try:\n",
    "    {}[\"foobar\"]\n",
    "except KeyError as e:\n",
    "    raise RuntimeError(\"Ooops!\") from e"
   ]
  },
  {
   "cell_type": "code",
   "execution_count": null,
   "metadata": {
    "collapsed": true
   },
   "outputs": [],
   "source": [
    "#Иногда требуется выполнить какое-то действие вне зависимости от того, произошло исключение или нет, например, закрыть файл\n",
    "try:\n",
    "    handle = open(\"example.txt\", \"wt\")\n",
    "    try:\n",
    "        do_something(handle)\n",
    "    finally:\n",
    "        handle.close()\n",
    "except IOError as e:\n",
    "    print(e, file=sys.stderr)"
   ]
  },
  {
   "cell_type": "code",
   "execution_count": null,
   "metadata": {
    "collapsed": true
   },
   "outputs": [],
   "source": [
    "#С помощью ветки else можно выполнить какое-то действие в ситуации, когда внутри try блока не возникло исключения\n",
    "try:\n",
    "    handle = open(\"example.txt\", \"wt\")\n",
    "else:\n",
    "    report_success(handle)\n",
    "except IOError as e:\n",
    "    print(e, file=sys.stderr)"
   ]
  },
  {
   "cell_type": "markdown",
   "metadata": {},
   "source": [
    "# МЕНЕДЖЕРЫ КОНТЕКСТА"
   ]
  },
  {
   "cell_type": "code",
   "execution_count": null,
   "metadata": {
    "collapsed": true
   },
   "outputs": [],
   "source": [
    "#Менеджеры контекста позволяют компактно выразить уже знакомый нам паттерн управления ресурсами:\n",
    "r = acquire_resource()\n",
    "try:\n",
    "    do_something(r)\n",
    "finally:\n",
    "     release_resource(r)\n",
    "#С помощью менеджера контекста пример выше можнозаписать так:\n",
    "with acquire_resource() as r:\n",
    "    do_something(r)"
   ]
  },
  {
   "cell_type": "code",
   "execution_count": null,
   "metadata": {
    "collapsed": true
   },
   "outputs": [],
   "source": [
    "#Примеры менеджеров контекста: opened\n",
    "from functools import partial\n",
    "class opened:\n",
    "    def __init__(self, path, *args, **kwargs):\n",
    "        self.opener = partial(open, path,*args, **kwargs)\n",
    "\n",
    "    def __enter__(self):\n",
    "        self.handle = self.opener()\n",
    "        return self.handle\n",
    "\n",
    "    def __exit__(self, *exc_info):\n",
    "        self.handle.close()\n",
    "        del self.handle\n",
    "\n",
    "with opened(\"./example.txt\", mode=\"rt\") as handle:\n",
    "    pass"
   ]
  },
  {
   "cell_type": "code",
   "execution_count": null,
   "metadata": {
    "collapsed": true
   },
   "outputs": [],
   "source": [
    "#Модуль tempfile реализует классы для работы с временными файлами.\n",
    "#Все классы реализуют протокол менеджеров контекста, которые работают так же, как и для обычных файлов.\n",
    "#Интересный пример — класс TemporaryFile, который автоматически удаляет временный файл при выходе из менеджера контекста:\n",
    "import tempfile\n",
    "with tempfile.TemporaryFile() as handle:\n",
    "    path = handle.name\n",
    "    print(path)\n",
    "\n",
    "open(path)"
   ]
  },
  {
   "cell_type": "markdown",
   "metadata": {},
   "source": [
    "# ZIP"
   ]
  },
  {
   "cell_type": "code",
   "execution_count": null,
   "metadata": {
    "collapsed": true
   },
   "outputs": [],
   "source": [
    "#заархивировать содержимое папки вместе с самой папкой\n",
    "import os\n",
    "import zipfile\n",
    "\n",
    "zf = zipfile.ZipFile(r\"C:\\myzip.zip\", \"w\")#куда\n",
    "for dirname, subdirs, files in os.walk(r'C:\\unzipped'):#что\n",
    "    for filename in files:\n",
    "        zf.write(os.path.join(dirname, filename))\n",
    "zf.close()"
   ]
  },
  {
   "cell_type": "code",
   "execution_count": null,
   "metadata": {
    "collapsed": true
   },
   "outputs": [],
   "source": [
    "#заархивировать содержимое папки без самой папкой\n",
    "import os\n",
    "import zipfile\n",
    "\n",
    "def zip(src, dst):\n",
    "    zf = zipfile.ZipFile(\"%s.zip\" % (dst), \"w\", zipfile.ZIP_DEFLATED)\n",
    "    abs_src = os.path.abspath(src)\n",
    "    for dirname, subdirs, files in os.walk(src):\n",
    "        for filename in files:\n",
    "            absname = os.path.abspath(os.path.join(dirname, filename))\n",
    "            arcname = absname[len(abs_src) + 1:]\n",
    "\n",
    "            zf.write(absname, arcname)\n",
    "    zf.close()\n",
    "\n",
    "zip(r'C:\\unzipped',r\"C:\\myzip.zip\")"
   ]
  }
 ],
 "metadata": {
  "kernelspec": {
   "display_name": "Python 3",
   "language": "python",
   "name": "python3"
  },
  "language_info": {
   "codemirror_mode": {
    "name": "ipython",
    "version": 3
   },
   "file_extension": ".py",
   "mimetype": "text/x-python",
   "name": "python",
   "nbconvert_exporter": "python",
   "pygments_lexer": "ipython3",
   "version": "3.7.3"
  }
 },
 "nbformat": 4,
 "nbformat_minor": 1
}
