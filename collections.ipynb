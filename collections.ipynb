{
 "cells": [
  {
   "cell_type": "markdown",
   "metadata": {},
   "source": [
    "### ChainMap"
   ]
  },
  {
   "cell_type": "code",
   "execution_count": 5,
   "metadata": {},
   "outputs": [
    {
     "name": "stdout",
     "output_type": "stream",
     "text": [
      "500\n"
     ]
    }
   ],
   "source": [
    "#объединяет словари в один. Если ключи дублируются, выдает первый попавшийся\n",
    "#если обновляем один из словарей, ChainMap обновляется автоматом\n",
    "from collections import ChainMap\n",
    " \n",
    "car_parts = {\n",
    "    'hood': 500,\n",
    "    'engine': 5000,\n",
    "    'front_door': 750\n",
    "}\n",
    " \n",
    "car_options = {\n",
    "    'A/C': 1000,\n",
    "    'hood': 2500,\n",
    "    'rollbar': 300\n",
    "}\n",
    " \n",
    "car_pricing = ChainMap(car_parts, car_options)\n",
    " \n",
    "print(car_pricing['hood']) # 500"
   ]
  },
  {
   "cell_type": "code",
   "execution_count": 11,
   "metadata": {},
   "outputs": [
    {
     "name": "stdout",
     "output_type": "stream",
     "text": [
      "[{'hood': 500, 'engine': 5000, 'front_door': 750}, {'A/C': 1000, 'hood': 2500, 'rollbar': 300}]\n",
      "['A/C', 'hood', 'rollbar', 'engine', 'front_door']\n",
      "[1000, 500, 300, 5000, 750]\n"
     ]
    }
   ],
   "source": [
    "#список словарей в мапе\n",
    "print(car_pricing.maps)\n",
    "print (list(car_pricing.keys()))\n",
    "print (list(car_pricing.values()))"
   ]
  },
  {
   "cell_type": "code",
   "execution_count": 9,
   "metadata": {},
   "outputs": [
    {
     "data": {
      "text/plain": [
       "{'hood': 500, 'engine': 5000, 'front_door': 750}"
      ]
     },
     "execution_count": 9,
     "metadata": {},
     "output_type": "execute_result"
    }
   ],
   "source": [
    "#добавить новй словарь\n",
    "#car_pricing = car_pricing.new_child(dict3)"
   ]
  },
  {
   "cell_type": "markdown",
   "metadata": {},
   "source": [
    "### Counter"
   ]
  },
  {
   "cell_type": "code",
   "execution_count": 18,
   "metadata": {},
   "outputs": [
    {
     "name": "stdout",
     "output_type": "stream",
     "text": [
      "Counter({'u': 3, 's': 2, 'p': 1, 'e': 1, 'r': 1, 'f': 1, 'l': 1, 'o': 1})\n",
      "3\n",
      "4\n"
     ]
    }
   ],
   "source": [
    "from collections import Counter\n",
    " \n",
    "a = Counter('superfluous')\n",
    "print(a)\n",
    "print(a['u'])\n",
    "\n",
    "b=[1,2,3,4,5,5,5,5,6,6]\n",
    "b_count = Counter(b)\n",
    "print(b_count[5])"
   ]
  },
  {
   "cell_type": "code",
   "execution_count": 22,
   "metadata": {},
   "outputs": [
    {
     "name": "stdout",
     "output_type": "stream",
     "text": [
      "['s', 's', 'u', 'u', 'u', 'p', 'e', 'r', 'f', 'l', 'o']\n"
     ]
    }
   ],
   "source": [
    "#все элементы в списке\n",
    "print(list(a.elements()))"
   ]
  },
  {
   "cell_type": "code",
   "execution_count": 19,
   "metadata": {},
   "outputs": [
    {
     "data": {
      "text/plain": [
       "[(5, 4), (6, 2)]"
      ]
     },
     "execution_count": 19,
     "metadata": {},
     "output_type": "execute_result"
    }
   ],
   "source": [
    "#самые часто встречаемые элементы\n",
    "b_count.most_common(2)"
   ]
  },
  {
   "cell_type": "code",
   "execution_count": 20,
   "metadata": {},
   "outputs": [
    {
     "name": "stdout",
     "output_type": "stream",
     "text": [
      "Counter({'s': 1, 'u': 1, 'p': 1, 'e': 1, 'r': 1, 'M': 1})\n",
      "Counter({'M': 1, 's': 0, 'u': 0, 'p': 0, 'e': 0, 'r': 0})\n"
     ]
    }
   ],
   "source": [
    "#вычесть 1 коллекцию из второй\n",
    "counter_one = Counter('superM')\n",
    "print(counter_one)\n",
    " \n",
    "counter_two = Counter('super')\n",
    "counter_one.subtract(counter_two)\n",
    "\n",
    "print(counter_one)"
   ]
  },
  {
   "cell_type": "markdown",
   "metadata": {},
   "source": [
    "sum(c.values())                 # total of all counts \n",
    "c.clear()                       # reset all counts \n",
    "list(c)                         # list unique elements \n",
    "set(c)                          # convert to a set \n",
    "dict(c)                         # convert to a regular dictionary \n",
    "c.items()                       # convert to a list like (elem, cnt) \n",
    "Counter(dict(list_of_pairs))    # convert from a list of(elem, cnt) \n",
    "c.most_common()[:-n-1:-1]       # n least common elements \n",
    "c += Counter()                  # remove zero and negative counts"
   ]
  },
  {
   "cell_type": "markdown",
   "metadata": {},
   "source": [
    "### defaultdict"
   ]
  },
  {
   "cell_type": "code",
   "execution_count": 23,
   "metadata": {},
   "outputs": [],
   "source": [
    "#The defaultdict works exactly like a python dictionary, \n",
    "#except for it does not throw KeyError when you try to access a non-existent key."
   ]
  },
  {
   "cell_type": "markdown",
   "metadata": {},
   "source": [
    "### namedtuple"
   ]
  },
  {
   "cell_type": "code",
   "execution_count": 26,
   "metadata": {},
   "outputs": [
    {
     "name": "stdout",
     "output_type": "stream",
     "text": [
      "John\n"
     ]
    }
   ],
   "source": [
    "#в кортеже нужно помнить индексы элементов\n",
    "#в namedtuple они проименованы\n",
    "from collections import namedtuple\n",
    "\n",
    "Student = namedtuple('Student', 'fname, lname, age')\n",
    "s1 = Student('John', 'Clarke', '13')\n",
    "print(s1.fname)"
   ]
  },
  {
   "cell_type": "code",
   "execution_count": null,
   "metadata": {},
   "outputs": [],
   "source": [
    "#создать из списка\n",
    "s2 = Student._make(['Adam','joe','18'])"
   ]
  },
  {
   "cell_type": "code",
   "execution_count": 27,
   "metadata": {},
   "outputs": [
    {
     "name": "stdout",
     "output_type": "stream",
     "text": [
      "Student(fname='John', lname='Clarke', age='13')\n",
      "Student(fname='John', lname='Clarke', age='14')\n"
     ]
    }
   ],
   "source": [
    "#изменить значение инстанса\n",
    "s2 = s1._replace(age='14')\n",
    "print(s1)\n",
    "print(s2)"
   ]
  },
  {
   "cell_type": "markdown",
   "metadata": {},
   "source": [
    "### deque"
   ]
  },
  {
   "cell_type": "code",
   "execution_count": 1,
   "metadata": {},
   "outputs": [
    {
     "name": "stdout",
     "output_type": "stream",
     "text": [
      "deque([0, 1, 2, 3])\n",
      "deque([0, 1, 2, 3, 4])\n"
     ]
    },
    {
     "data": {
      "text/plain": [
       "1"
      ]
     },
     "execution_count": 1,
     "metadata": {},
     "output_type": "execute_result"
    }
   ],
   "source": [
    "#симулятор очереди collections.deque\n",
    "from collections import deque\n",
    "q = deque()\n",
    "q = deque([1, 2, 3])\n",
    "q.appendleft(0)\n",
    "print(q)\n",
    "deque([0, 1, 2, 3])\n",
    "q.append(4)\n",
    "print(q)\n",
    "q.popleft()\n",
    "q[0]\n",
    "#Конструктор deque принимает опциональный аргумент maxlen, ограничивающий максимальную длину очереди.\n",
    "#При добавлении элемента к ограниченной очереди лишние элементы “вываливаются” с противоположной стороны"
   ]
  },
  {
   "cell_type": "code",
   "execution_count": null,
   "metadata": {},
   "outputs": [],
   "source": []
  }
 ],
 "metadata": {
  "kernelspec": {
   "display_name": "Python 3",
   "language": "python",
   "name": "python3"
  },
  "language_info": {
   "codemirror_mode": {
    "name": "ipython",
    "version": 3
   },
   "file_extension": ".py",
   "mimetype": "text/x-python",
   "name": "python",
   "nbconvert_exporter": "python",
   "pygments_lexer": "ipython3",
   "version": "3.7.3"
  }
 },
 "nbformat": 4,
 "nbformat_minor": 2
}
